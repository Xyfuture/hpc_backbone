{
 "cells": [
  {
   "cell_type": "code",
   "execution_count": 1,
   "outputs": [],
   "source": [
    "import redis\n",
    "import time\n",
    "import pickle\n",
    "import cv2\n",
    "import numpy as np"
   ],
   "metadata": {
    "collapsed": false
   }
  },
  {
   "cell_type": "code",
   "execution_count": 3,
   "outputs": [
    {
     "data": {
      "text/plain": "True"
     },
     "execution_count": 2,
     "metadata": {},
     "output_type": "execute_result"
    },
    {
     "data": {
      "text/plain": "True"
     },
     "execution_count": 3,
     "metadata": {},
     "output_type": "execute_result"
    }
   ],
   "source": [
    "worker_stream_key = 'Inpainting_worker'\n",
    "worker_group_name = \"worker\"\n",
    "\n",
    "ack_stream_key = 'Inpainting_finish_ack'\n",
    "ack_group_name = \"master\"\n",
    "\n",
    "conn = redis.Redis()\n",
    "conn.ping()"
   ],
   "metadata": {
    "collapsed": false
   }
  },
  {
   "cell_type": "code",
   "execution_count": null,
   "outputs": [],
   "source": [
    "# for i in range(0,10):\n",
    "#     conn.xadd( stream_key, { 'ts': time.time(), 'v': i } )"
   ],
   "metadata": {
    "collapsed": false
   }
  },
  {
   "cell_type": "code",
   "execution_count": null,
   "outputs": [],
   "source": [
    "# t = conn.xadd('skey',{'ts':time.time()})"
   ],
   "metadata": {
    "collapsed": false
   }
  },
  {
   "cell_type": "code",
   "execution_count": null,
   "outputs": [],
   "source": [
    "img_path = r\"D:\\code\\swdesign\\hpc_backbone\\test\\samples\\origin.png\"\n",
    "mask_path = r\"D:\\code\\swdesign\\hpc_backbone\\test\\samples\\mask.png\"\n",
    "\n",
    "img = cv2.imread(img_path)\n",
    "mask = cv2.imread(mask_path)\n",
    "\n",
    "first_img = cv2.cvtColor(img,cv2.COLOR_BGR2RGB)\n",
    "first_mask = cv2.cvtColor(mask,cv2.COLOR_BGR2GRAY)"
   ],
   "metadata": {
    "collapsed": false
   }
  },
  {
   "cell_type": "code",
   "execution_count": 4,
   "outputs": [],
   "source": [
    "img_path = r\"D:\\code\\swdesign\\hpc_backbone\\test\\samples\\origin.png\"\n",
    "mask_path = r\"D:\\code\\swdesign\\hpc_backbone\\test\\samples\\mask.png\"\n",
    "\n",
    "img_file = open(img_path,'rb')\n",
    "mask_file = open(mask_path,'rb')\n",
    "\n",
    "# first_img = np.frombuffer(img_file.read(), dtype=\"uint8\")\n",
    "# first_mask = np.frombuffer(mask_file.read(),dtype='uint8')\n",
    "first_img = img_file.read()\n",
    "first_mask = mask_file.read()"
   ],
   "metadata": {
    "collapsed": false
   }
  },
  {
   "cell_type": "code",
   "execution_count": 5,
   "outputs": [
    {
     "data": {
      "text/plain": "b'1670659069267-0'"
     },
     "execution_count": 5,
     "metadata": {},
     "output_type": "execute_result"
    }
   ],
   "source": [
    "conn.xadd(worker_stream_key,{'image':pickle.dumps(first_img),'mask':pickle.dumps(first_mask)})"
   ],
   "metadata": {
    "collapsed": false
   }
  },
  {
   "cell_type": "code",
   "execution_count": 6,
   "outputs": [
    {
     "data": {
      "text/plain": "True"
     },
     "execution_count": 6,
     "metadata": {},
     "output_type": "execute_result"
    }
   ],
   "source": [
    "conn.xgroup_create( name=worker_stream_key, groupname=worker_group_name, id=0)\n"
   ],
   "metadata": {
    "collapsed": false
   }
  },
  {
   "cell_type": "code",
   "execution_count": 7,
   "outputs": [
    {
     "data": {
      "text/plain": "True"
     },
     "execution_count": 7,
     "metadata": {},
     "output_type": "execute_result"
    }
   ],
   "source": [
    "conn.xgroup_create( name=ack_stream_key, groupname=ack_group_name, id=0)"
   ],
   "metadata": {
    "collapsed": false
   }
  },
  {
   "cell_type": "code",
   "execution_count": null,
   "outputs": [],
   "source": [
    "\n",
    "# conn.xadd('Inpainting',{'image':123,'mask':456})"
   ],
   "metadata": {
    "collapsed": false
   }
  },
  {
   "cell_type": "code",
   "execution_count": 8,
   "outputs": [],
   "source": [
    "l = conn.xreadgroup(ack_group_name,'test',{ack_stream_key:'>'})"
   ],
   "metadata": {
    "collapsed": false
   }
  },
  {
   "cell_type": "code",
   "execution_count": 9,
   "outputs": [],
   "source": [
    "tmp = pickle.loads(l[0][1][0][1][b'result'])"
   ],
   "metadata": {
    "collapsed": false
   }
  },
  {
   "cell_type": "code",
   "execution_count": 10,
   "outputs": [
    {
     "name": "stdout",
     "output_type": "stream",
     "text": [
      "<class 'bytes'>\n"
     ]
    }
   ],
   "source": [
    "print(type(tmp))"
   ],
   "metadata": {
    "collapsed": false
   }
  },
  {
   "cell_type": "code",
   "execution_count": 11,
   "outputs": [],
   "source": [
    "# import numpy as np\n",
    "# out = tmp.astype(np.uint8)\n",
    "# # out = cv2.cvtColor(out,cv2.COLOR_BGR2RGB)\n",
    "# cv2.imwrite(f'new.jpg', out)\n",
    "with open('final.jpg','wb') as f:\n",
    "    f.write(tmp)"
   ],
   "metadata": {
    "collapsed": false
   }
  },
  {
   "cell_type": "code",
   "execution_count": null,
   "outputs": [],
   "source": [],
   "metadata": {
    "collapsed": false
   }
  }
 ],
 "metadata": {
  "kernelspec": {
   "display_name": "Python 3",
   "language": "python",
   "name": "python3"
  },
  "language_info": {
   "codemirror_mode": {
    "name": "ipython",
    "version": 2
   },
   "file_extension": ".py",
   "mimetype": "text/x-python",
   "name": "python",
   "nbconvert_exporter": "python",
   "pygments_lexer": "ipython2",
   "version": "2.7.6"
  }
 },
 "nbformat": 4,
 "nbformat_minor": 0
}
